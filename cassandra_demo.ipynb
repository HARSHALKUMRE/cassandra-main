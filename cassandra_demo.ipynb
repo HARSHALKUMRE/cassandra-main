{
 "cells": [
  {
   "cell_type": "code",
   "execution_count": 1,
   "metadata": {},
   "outputs": [
    {
     "name": "stdout",
     "output_type": "stream",
     "text": [
      "heloo\n"
     ]
    }
   ],
   "source": [
    "print(\"heloo\")"
   ]
  },
  {
   "cell_type": "code",
   "execution_count": 3,
   "metadata": {},
   "outputs": [
    {
     "name": "stdout",
     "output_type": "stream",
     "text": [
      "3.25.0\n"
     ]
    }
   ],
   "source": [
    "import cassandra\n",
    "print(cassandra.__version__)"
   ]
  },
  {
   "cell_type": "code",
   "execution_count": 6,
   "metadata": {},
   "outputs": [
    {
     "name": "stdout",
     "output_type": "stream",
     "text": [
      "Reading Environment Variables\n"
     ]
    },
    {
     "data": {
      "text/plain": [
       "True"
      ]
     },
     "execution_count": 6,
     "metadata": {},
     "output_type": "execute_result"
    }
   ],
   "source": [
    "from dotenv import load_dotenv\n",
    "print(f\"Reading Environment Variables\")\n",
    "load_dotenv()"
   ]
  },
  {
   "cell_type": "code",
   "execution_count": 7,
   "metadata": {},
   "outputs": [],
   "source": [
    "import os"
   ]
  },
  {
   "cell_type": "code",
   "execution_count": 8,
   "metadata": {},
   "outputs": [],
   "source": [
    "CLIENT_ID = os.getenv('CLIENT_ID')\n",
    "SECRET_ID = os.getenv('SECRET_ID')"
   ]
  },
  {
   "cell_type": "code",
   "execution_count": 9,
   "metadata": {},
   "outputs": [
    {
     "name": "stdout",
     "output_type": "stream",
     "text": [
      "4.0.0.6816\n"
     ]
    }
   ],
   "source": [
    "from cassandra.cluster import Cluster\n",
    "from cassandra.auth import PlainTextAuthProvider\n",
    "\n",
    "cloud_config= {\n",
    "         'secure_connect_bundle': '/config/workspace/secure-connect-cassandra-demo.zip'\n",
    "}\n",
    "auth_provider = PlainTextAuthProvider(CLIENT_ID, SECRET_ID)\n",
    "cluster = Cluster(cloud=cloud_config, auth_provider=auth_provider)\n",
    "session = cluster.connect()\n",
    "\n",
    "result = session.execute(\"select release_version from system.local\")\n",
    "\n",
    "row = result.one()\n",
    "\n",
    "# print(row)\n",
    "if row:\n",
    "      print(row[0])\n",
    "else:\n",
    "      print(\"An error occurred.\")"
   ]
  },
  {
   "cell_type": "code",
   "execution_count": 10,
   "metadata": {},
   "outputs": [
    {
     "name": "stdout",
     "output_type": "stream",
     "text": [
      "Row(release_version='4.0.0.6816')\n"
     ]
    }
   ],
   "source": [
    "print(row)"
   ]
  },
  {
   "cell_type": "code",
   "execution_count": 12,
   "metadata": {},
   "outputs": [
    {
     "name": "stdout",
     "output_type": "stream",
     "text": [
      "Exception occured while creating Keyspace :  Error from server: code=2100 [Unauthorized] message=\"Missing correct permission on employee_management.: Keyspace management is currently only supported at https://astra.datastax.com/org/ea35621f-c6b6-4194-a113-afe10aa39429/database/6f33225c-8e9d-4a6c-87a7-da175c6c110a\"\n"
     ]
    }
   ],
   "source": [
    "# Command to create keyspace in Cassandra\n",
    "try:\n",
    "    query = \"create keyspace employee_management with replication = {'class' : 'SimpleStrategy', 'replication_factor' : 3}\"\n",
    "    session.execute(query)\n",
    "    print(\"Keyspace Created Sucessfully !!\")\n",
    "except Exception as err:\n",
    "    print(\"Exception occured while creating Keyspace : \",err)"
   ]
  },
  {
   "cell_type": "code",
   "execution_count": null,
   "metadata": {},
   "outputs": [],
   "source": [
    "# Command to Alter the keyspace in Cassandra\n",
    "try:\n",
    "    query = \"alter keyspace employee_management with replication = {'class' : 'SimpleStrategy', 'replication_factor' : 2}\"\n",
    "    session.execute(query)\n",
    "    print(\"Keyspace Altered Successfully !!\")\n",
    "except Exception as err:\n",
    "    print(\"Exception Occured while altering Keyspace : \",err)"
   ]
  },
  {
   "cell_type": "code",
   "execution_count": null,
   "metadata": {},
   "outputs": [],
   "source": [
    "# Command to Drop the keyspace in Cassandra\n",
    "try:\n",
    "    query = \"drop keyspace employee_management\"\n",
    "    session.execute(query)\n",
    "    print(\"Keyspace Dropped Successfully !!\")\n",
    "except Exception as err:\n",
    "    print(\"Exception Occured while dropping the Keyspace : \",err)"
   ]
  },
  {
   "cell_type": "code",
   "execution_count": 13,
   "metadata": {},
   "outputs": [
    {
     "name": "stdout",
     "output_type": "stream",
     "text": [
      "Inside the keyspace\n"
     ]
    }
   ],
   "source": [
    "# Command to use a keyspace\n",
    "try:\n",
    "    query = \"use key_testing\"\n",
    "    session.execute(query)\n",
    "    print(\"Inside the keyspace\")\n",
    "except Exception as err:\n",
    "    print(\"Exception occured while using Keyspace : \",err)"
   ]
  },
  {
   "cell_type": "code",
   "execution_count": 14,
   "metadata": {},
   "outputs": [
    {
     "name": "stdout",
     "output_type": "stream",
     "text": [
      "Table created inside the keyspace\n"
     ]
    }
   ],
   "source": [
    "# Command to create a table inside a keyspace\n",
    "try:\n",
    "    query = \"\"\"create table employee(\n",
    "        emp_id int,\n",
    "        emp_name varchar,\n",
    "        emp_salary int,\n",
    "        emp_dept varchar,\n",
    "        emp_email varchar,\n",
    "        emp_phone varchar,\n",
    "        primary key (emp_id, emp_dept) \n",
    "    )\n",
    "    \"\"\"\n",
    "    session.execute(query)\n",
    "    print(\"Table created inside the keyspace\")\n",
    "except Exception as err:\n",
    "    print(\"Exception occured while creating the table : \",err)"
   ]
  },
  {
   "cell_type": "code",
   "execution_count": 15,
   "metadata": {},
   "outputs": [
    {
     "name": "stdout",
     "output_type": "stream",
     "text": [
      "Column Dropped Successfully !!\n"
     ]
    }
   ],
   "source": [
    "# Alter the table in cassandra to drop a column\n",
    "try:\n",
    "    query = \"alter table employee drop emp_email\"\n",
    "    session.execute(query)\n",
    "    print(\"Column Dropped Successfully !!\")\n",
    "except Exception as err:\n",
    "    print(\"Exception Occured while dropping the column : \",err)"
   ]
  },
  {
   "cell_type": "code",
   "execution_count": 17,
   "metadata": {},
   "outputs": [
    {
     "name": "stdout",
     "output_type": "stream",
     "text": [
      "Column Added Successfully !!\n"
     ]
    }
   ],
   "source": [
    "# Alter table in cassandra to add a new column\n",
    "try:\n",
    "    query = \"alter table employee add emp_email text\"\n",
    "    session.execute(query)\n",
    "    print(\"Column Added Successfully !!\")\n",
    "except Exception as err:\n",
    "    print(\"Exception Occured whilw adding the column: \",err)"
   ]
  },
  {
   "cell_type": "code",
   "execution_count": null,
   "metadata": {},
   "outputs": [],
   "source": [
    "# Drop a table in cassandra\n",
    "try:\n",
    "    query = \"drop table employee\"\n",
    "    session.execute(query)\n",
    "    print(\"Table dropped successfully !!\")\n",
    "except Exception as err:\n",
    "    print(\"Exception Occured while dropping the table: \",err)"
   ]
  },
  {
   "cell_type": "code",
   "execution_count": 18,
   "metadata": {},
   "outputs": [
    {
     "name": "stdout",
     "output_type": "stream",
     "text": [
      "Record inserted successfully !!\n"
     ]
    }
   ],
   "source": [
    "# Insert data into cassandra table\n",
    "try:\n",
    "    query = \"insert into employee(emp_id, emp_name, emp_salary, emp_dept, emp_email, emp_phone) values(2, 'Rahul', 20000, 'IT', 'xyx.gmail.com','+91 908467474')\"\n",
    "    session.execute(query)\n",
    "    print(\"Record inserted successfully !!\")\n",
    "except Exception as err:\n",
    "    print(\"Exception Occured while inserting the data into table: \",err)"
   ]
  },
  {
   "cell_type": "code",
   "execution_count": 19,
   "metadata": {},
   "outputs": [
    {
     "name": "stdout",
     "output_type": "stream",
     "text": [
      "Record inserted successfully !!\n"
     ]
    }
   ],
   "source": [
    "# Insert data into cassandra table\n",
    "try:\n",
    "    query = \"insert into employee(emp_id, emp_name, emp_salary, emp_dept, emp_email, emp_phone) values(3, 'Sunny', 22000, 'HR', 'klm.gmail.com','+91 800067474')\"\n",
    "    session.execute(query)\n",
    "    print(\"Record inserted successfully !!\")\n",
    "except Exception as err:\n",
    "    print(\"Exception Occured while inserting the data into table: \",err)"
   ]
  },
  {
   "cell_type": "code",
   "execution_count": 20,
   "metadata": {},
   "outputs": [
    {
     "name": "stdout",
     "output_type": "stream",
     "text": [
      "Record inserted successfully !!\n"
     ]
    }
   ],
   "source": [
    "# Insert data into cassandra table\n",
    "try:\n",
    "    query = \"insert into employee(emp_id, emp_name, emp_salary, emp_dept, emp_email, emp_phone) values(4, 'Vishal', 30000, 'Software', 'mno.gmail.com','+91 600467474')\"\n",
    "    session.execute(query)\n",
    "    print(\"Record inserted successfully !!\")\n",
    "except Exception as err:\n",
    "    print(\"Exception Occured while inserting the data into table: \",err)"
   ]
  },
  {
   "cell_type": "code",
   "execution_count": 21,
   "metadata": {},
   "outputs": [
    {
     "name": "stdout",
     "output_type": "stream",
     "text": [
      "Record inserted successfully !!\n"
     ]
    }
   ],
   "source": [
    "# Insert data into cassandra table\n",
    "try:\n",
    "    query = \"insert into employee(emp_id, emp_name, emp_salary, emp_dept, emp_email, emp_phone) values(1, 'Shashank', 10000, 'Software', 'abc.gmail.com','+91 768467474')\"\n",
    "    session.execute(query)\n",
    "    print(\"Record inserted successfully !!\")\n",
    "except Exception as err:\n",
    "    print(\"Exception Occured while inserting the data into table: \",err)"
   ]
  },
  {
   "cell_type": "code",
   "execution_count": 25,
   "metadata": {},
   "outputs": [
    {
     "name": "stdout",
     "output_type": "stream",
     "text": [
      "Row(emp_id=1, emp_dept='Software', emp_email='abc.gmail.com', emp_name='Shashank', emp_phone='+91 768467474', emp_salary=10000)\n",
      "Select command successfully executed !!\n"
     ]
    }
   ],
   "source": [
    "# Select query on cassandra table\n",
    "try:\n",
    "    query = \"select * from employee\"\n",
    "    result = session.execute(query)\n",
    "    row = result.one()\n",
    "    print(row)\n",
    "    print(\"Select command successfully executed !!\")\n",
    "except Exception as err:\n",
    "    print(\"Exception Occured while selecting the data from table: \",err)"
   ]
  },
  {
   "cell_type": "code",
   "execution_count": 26,
   "metadata": {},
   "outputs": [
    {
     "name": "stdout",
     "output_type": "stream",
     "text": [
      "Row(emp_id=1, emp_dept='Software', emp_email='abc.gmail.com', emp_name='Shashank', emp_phone='+91 768467474', emp_salary=10000)\n",
      "Row(emp_id=2, emp_dept='IT', emp_email='xyx.gmail.com', emp_name='Rahul', emp_phone='+91 908467474', emp_salary=20000)\n",
      "Row(emp_id=4, emp_dept='Software', emp_email='mno.gmail.com', emp_name='Vishal', emp_phone='+91 600467474', emp_salary=30000)\n",
      "Row(emp_id=3, emp_dept='HR', emp_email='klm.gmail.com', emp_name='Sunny', emp_phone='+91 800067474', emp_salary=22000)\n"
     ]
    }
   ],
   "source": [
    "# Select query on cassandra table\n",
    "try:\n",
    "    query = \"select * from employee\"\n",
    "    result = session.execute(query)\n",
    "    for row in result:\n",
    "        print(row)\n",
    "except Exception as err:\n",
    "    print(\"Exception Occured while selecting the data from table: \",err)"
   ]
  },
  {
   "cell_type": "code",
   "execution_count": 27,
   "metadata": {},
   "outputs": [
    {
     "name": "stdout",
     "output_type": "stream",
     "text": [
      "Row(emp_id=1, emp_name='Shashank')\n",
      "Row(emp_id=2, emp_name='Rahul')\n",
      "Row(emp_id=4, emp_name='Vishal')\n",
      "Row(emp_id=3, emp_name='Sunny')\n"
     ]
    }
   ],
   "source": [
    "# Select query for specific columns in cassandra table\n",
    "try:\n",
    "    query = \"select emp_id, emp_name from employee\"\n",
    "    result = session.execute(query)\n",
    "    for row in result:\n",
    "        print(row)\n",
    "except Exception as err:\n",
    "    print(\"Exception Occured while selecting the data from table: \",err)"
   ]
  },
  {
   "cell_type": "code",
   "execution_count": 28,
   "metadata": {},
   "outputs": [
    {
     "name": "stdout",
     "output_type": "stream",
     "text": [
      "Emp ID :  1\n",
      "Emp Name :  Shashank\n",
      "Emp ID :  2\n",
      "Emp Name :  Rahul\n",
      "Emp ID :  4\n",
      "Emp Name :  Vishal\n",
      "Emp ID :  3\n",
      "Emp Name :  Sunny\n"
     ]
    }
   ],
   "source": [
    "# Select query for specific columns in cassandra table and how to access from Row object\n",
    "try:\n",
    "    query = \"select emp_id, emp_name from employee\"\n",
    "    result = session.execute(query)\n",
    "    # option 1\n",
    "    for row in result:\n",
    "        print(\"Emp ID : \", row[0])\n",
    "        print(\"Emp Name : \", row[1])\n",
    "except Exception as err:\n",
    "    print(\"Exception Occured while selecting the data from table: \",err)"
   ]
  },
  {
   "cell_type": "code",
   "execution_count": 29,
   "metadata": {},
   "outputs": [
    {
     "name": "stdout",
     "output_type": "stream",
     "text": [
      "Exception Occured while selecting the data from table:  tuple indices must be integers or slices, not str\n"
     ]
    }
   ],
   "source": [
    "# Select query for specific columns in cassandra table and how to access from Row object\n",
    "# Doesn't work\n",
    "try:\n",
    "    query = \"select emp_id, emp_name from employee\"\n",
    "    result = session.execute(query)\n",
    "    # option 2\n",
    "    for row in result:\n",
    "        print(\"Emp ID : \", row['emp_id'])\n",
    "        print(\"Emp Name : \", row['emp_name'])\n",
    "except Exception as err:\n",
    "    print(\"Exception Occured while selecting the data from table: \",err)"
   ]
  },
  {
   "cell_type": "code",
   "execution_count": 30,
   "metadata": {},
   "outputs": [
    {
     "name": "stdout",
     "output_type": "stream",
     "text": [
      "Row(count=4)\n",
      "4\n"
     ]
    }
   ],
   "source": [
    "# Write a query to get total count of employees\n",
    "try:\n",
    "    query = \"select count(*) from employee\"\n",
    "    result = session.execute(query)\n",
    "    row = result.one()\n",
    "    print(row)\n",
    "    print(row[0])\n",
    "except Exception as err:\n",
    "    print(\"Exception Occured while selecting the data from table: \",err)"
   ]
  },
  {
   "cell_type": "code",
   "execution_count": 32,
   "metadata": {},
   "outputs": [
    {
     "name": "stdout",
     "output_type": "stream",
     "text": [
      "Row(system_max_emp_salary=30000)\n",
      "30000\n"
     ]
    }
   ],
   "source": [
    "# Write a query to find maximum salary from employee table\n",
    "try:\n",
    "    query = \"select max(emp_salary) from employee\"\n",
    "    result = session.execute(query)\n",
    "    row = result.one()\n",
    "    print(row)\n",
    "    print(row[0])\n",
    "except Exception as err:\n",
    "    print(\"Exception Occured while selecting the data from table: \",err)"
   ]
  },
  {
   "cell_type": "code",
   "execution_count": 34,
   "metadata": {},
   "outputs": [
    {
     "name": "stdout",
     "output_type": "stream",
     "text": [
      "Exception Occured while selecting the data from table:  Error from server: code=2200 [Invalid query] message=\"Cannot execute this query as it might involve data filtering and thus may have unpredictable performance. If you want to execute this query despite the performance unpredictability, use ALLOW FILTERING\"\n"
     ]
    }
   ],
   "source": [
    "# Write a query to fileter data from cassandra table or how to use where clause\n",
    "try:\n",
    "    query = \"select * from employee where emp_name = 'Shashank'\"\n",
    "    result = session.execute(query)\n",
    "    row = result.one()\n",
    "    print(row)\n",
    "except Exception as err:\n",
    "    print(\"Exception Occured while selecting the data from table: \",err)"
   ]
  },
  {
   "cell_type": "code",
   "execution_count": 35,
   "metadata": {},
   "outputs": [
    {
     "name": "stdout",
     "output_type": "stream",
     "text": [
      "Row(emp_id=1, emp_dept='Software', emp_email='abc.gmail.com', emp_name='Shashank', emp_phone='+91 768467474', emp_salary=10000)\n"
     ]
    }
   ],
   "source": [
    "# Write a query to filter data from cassandra table or how to use where clause\n",
    "# Rules for where clause - It can be used effectively with high performance for given below type of columns\n",
    "# 1.) Partition Key (Single or Composite)\n",
    "                   #OR\n",
    "# 2.) if Cluster column  used in where clause then it should be with Partition Key\n",
    "                   #OR\n",
    "# 3.) A column on which we have applied the index\n",
    "                   #OR\n",
    "# 4.) A column which is not part of partition key or index column or clustering column then we can use where clause but we have to\n",
    "# use keyword ALLOW FILTERING - it will be a super slow performance when data volume is very high\n",
    "\n",
    "try:\n",
    "    query = \"select * from employee where emp_name = 'Shashank' ALLOW FILTERING\"\n",
    "    result = session.execute(query)\n",
    "    row = result.one()\n",
    "    print(row)\n",
    "except Exception as err:\n",
    "    print(\"Exception Occured while selecting the data from table: \",err)"
   ]
  },
  {
   "cell_type": "code",
   "execution_count": 36,
   "metadata": {},
   "outputs": [
    {
     "name": "stdout",
     "output_type": "stream",
     "text": [
      "Row(emp_id=2, emp_dept='IT', emp_email='xyx.gmail.com', emp_name='Rahul', emp_phone='+91 908467474', emp_salary=20000)\n"
     ]
    }
   ],
   "source": [
    "# where clause for Partition key only or Rule no -1\n",
    "\n",
    "try:\n",
    "    query = \"select * from employee where emp_id=2\"\n",
    "    result = session.execute(query)\n",
    "    row = result.one()\n",
    "    print(row)\n",
    "except Exception as err:\n",
    "    print(\"Exception Occured while selecting the data from table: \",err)"
   ]
  },
  {
   "cell_type": "code",
   "execution_count": 38,
   "metadata": {},
   "outputs": [
    {
     "name": "stdout",
     "output_type": "stream",
     "text": [
      "Row(emp_id=1, emp_dept='Software', emp_email='abc.gmail.com', emp_name='Shashank', emp_phone='+91 768467474', emp_salary=10000)\n"
     ]
    }
   ],
   "source": [
    "# where clause for Clustering key only or Rule no - 2 \n",
    "\n",
    "try:\n",
    "    query = \"select * from employee where emp_dept='Software' and emp_id=1\"\n",
    "    result = session.execute(query)\n",
    "    row = result.one()\n",
    "    print(row)\n",
    "except Exception as err:\n",
    "    print(\"Exception Occured while selecting the data from table: \",err)"
   ]
  },
  {
   "cell_type": "code",
   "execution_count": null,
   "metadata": {},
   "outputs": [],
   "source": [
    "# We have another composite parition key\n",
    "\n",
    "primary key ( (employeeid, fname), dept )\n",
    "\n",
    "select * from employee where employeeid = 'x' and dept = 'software' and fname = 'shashank' # Wrong query\n",
    "\n",
    "select * from employee where dept = 'software' and employeeid = 'x' and fname = 'shashank' # Correct query"
   ]
  },
  {
   "cell_type": "code",
   "execution_count": 39,
   "metadata": {},
   "outputs": [
    {
     "name": "stdout",
     "output_type": "stream",
     "text": [
      "Row(emp_id=1, sum_salary=10000)\n"
     ]
    }
   ],
   "source": [
    "# Group by in cassandra  -  Allowed for all columns which are part of Primary Key\n",
    "# Follow given below rules\n",
    "# Rule - 1 : Use only partition key in the group by\n",
    "              #OR\n",
    "# Rule - 2 : if Cluster key column is used then follow the actual declared sequence in the primary key\n",
    "try:\n",
    "    query = \"select emp_id, sum(emp_salary) as sum_salary from employee group by emp_id\"\n",
    "    result = session.execute(query)\n",
    "    row = result.one()\n",
    "    print(row)\n",
    "except Exception as err:\n",
    "    print(\"Exception Occured while selecting the data from table: \",err)"
   ]
  },
  {
   "cell_type": "code",
   "execution_count": 40,
   "metadata": {},
   "outputs": [
    {
     "name": "stdout",
     "output_type": "stream",
     "text": [
      "Row(emp_id=1, emp_dept='Software', sum_salary=10000)\n"
     ]
    }
   ],
   "source": [
    "# Group by in cassandra \n",
    "# Rule - 2 : if Cluster key column is used then follow the actual declared sequence in the primary key\n",
    "try:\n",
    "    query = \"select emp_id, emp_dept, sum(emp_salary) as sum_salary from employee group by emp_id, emp_dept\"\n",
    "    result = session.execute(query)\n",
    "    row = result.one()\n",
    "    print(row)\n",
    "except Exception as err:\n",
    "    print(\"Exception Occured while selecting the data from table: \",err)"
   ]
  },
  {
   "cell_type": "code",
   "execution_count": null,
   "metadata": {},
   "outputs": [],
   "source": []
  }
 ],
 "metadata": {
  "kernelspec": {
   "display_name": "Python 3.8.0 64-bit ('venv')",
   "language": "python",
   "name": "python3"
  },
  "language_info": {
   "codemirror_mode": {
    "name": "ipython",
    "version": 3
   },
   "file_extension": ".py",
   "mimetype": "text/x-python",
   "name": "python",
   "nbconvert_exporter": "python",
   "pygments_lexer": "ipython3",
   "version": "3.8.0"
  },
  "orig_nbformat": 4,
  "vscode": {
   "interpreter": {
    "hash": "1762875d695c3b8ce31fc2c385c40c45ae7c7b01a87f50658d419512c57bca88"
   }
  }
 },
 "nbformat": 4,
 "nbformat_minor": 2
}
